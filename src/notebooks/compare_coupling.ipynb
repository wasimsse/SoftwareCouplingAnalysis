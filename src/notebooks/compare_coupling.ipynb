{
 "cells": [
  {
   "cell_type": "code",
   "execution_count": null,
   "metadata": {},
   "outputs": [],
   "source": [
    "import matplotlib.pyplot as plt\n",
    "import seaborn as sns\n",
    "import pandas as pd\n",
    "\n",
    "# Load or compute your LSI and Transformer coupling matrices\n",
    "# For simplicity, using dummy data here\n",
    "lsi_similarities = ...\n",
    "transformer_similarities = ...\n",
    "file_paths = ...\n",
    "\n",
    "# Create a DataFrame for easier plotting\n",
    "data = {\n",
    "    'file1': [],\n",
    "    'file2': [],\n",
    "    'lsi_coupling': [],\n",
    "    'transformer_coupling': []\n",
    "}\n",
    "\n",
    "for i, file1 in enumerate(file_paths):\n",
    "    for j in range(i+1, len(file_paths)):\n",
    "        data['file1'].append(file1)\n",
    "        data['file2'].append(file_paths[j])\n",
    "        data['lsi_coupling'].append(lsi_similarities[i, j])\n",
    "        data['transformer_coupling'].append(transformer_similarities[i, j])\n",
    "\n",
    "df = pd.DataFrame(data)\n",
    "\n",
    "# Plot the results\n",
    "sns.scatterplot(data=df, x='lsi_coupling', y='transformer_coupling')\n",
    "plt.xlabel('LSI Coupling')\n",
    "plt.ylabel('Transformer Coupling')\n",
    "plt.title('Comparison of LSI and Transformer Coupling')\n",
    "plt.show()\n"
   ]
  }
 ],
 "metadata": {
  "language_info": {
   "name": "python"
  },
  "orig_nbformat": 4
 },
 "nbformat": 4,
 "nbformat_minor": 2
}
